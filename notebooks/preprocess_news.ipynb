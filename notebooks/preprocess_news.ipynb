{
 "cells": [
  {
   "cell_type": "code",
   "execution_count": 1,
   "metadata": {
    "pycharm": {
     "is_executing": false
    }
   },
   "outputs": [
    {
     "name": "stderr",
     "output_type": "stream",
     "text": [
      "c:\\users\\user\\anaconda3\\envs\\findcategory\\lib\\site-packages\\sklearn\\utils\\deprecation.py:143: FutureWarning: The sklearn.feature_extraction.stop_words module is  deprecated in version 0.22 and will be removed in version 0.24. The corresponding classes / functions should instead be imported from sklearn.feature_extraction.text. Anything that cannot be imported from sklearn.feature_extraction.text is now part of the private API.\n",
      "  warnings.warn(message, FutureWarning)\n"
     ]
    }
   ],
   "source": [
    "# import libraries\n",
    "from src.features.preprocess import *\n",
    "from src.data.rw_utils import read_from_db, write_to_db\n",
    "from src.data.data_quality import create_data_quality_report\n",
    "from src.data.plots import plot_bar_chart, plot_wordcloud\n",
    "import time\n",
    "import numpy as np\n"
   ]
  },
  {
   "cell_type": "code",
   "execution_count": 2,
   "metadata": {
    "pycharm": {
     "is_executing": false,
     "name": "#%%\n"
    },
    "scrolled": false
   },
   "outputs": [
    {
     "name": "stdout",
     "output_type": "stream",
     "text": [
      "Data is read. Len of the data 204135 and columns Index(['id', 'title', 'author', 'date', 'content', 'year', 'month',\n",
      "       'publication', 'category', 'digital', 'section', 'url'],\n",
      "      dtype='object')\n"
     ]
    },
    {
     "data": {
      "text/html": [
       "<div>\n",
       "<style scoped>\n",
       "    .dataframe tbody tr th:only-of-type {\n",
       "        vertical-align: middle;\n",
       "    }\n",
       "\n",
       "    .dataframe tbody tr th {\n",
       "        vertical-align: top;\n",
       "    }\n",
       "\n",
       "    .dataframe thead th {\n",
       "        text-align: right;\n",
       "    }\n",
       "</style>\n",
       "<table border=\"1\" class=\"dataframe\">\n",
       "  <thead>\n",
       "    <tr style=\"text-align: right;\">\n",
       "      <th></th>\n",
       "      <th>id</th>\n",
       "      <th>title</th>\n",
       "      <th>author</th>\n",
       "      <th>date</th>\n",
       "      <th>content</th>\n",
       "      <th>year</th>\n",
       "      <th>month</th>\n",
       "      <th>publication</th>\n",
       "      <th>category</th>\n",
       "      <th>digital</th>\n",
       "      <th>section</th>\n",
       "      <th>url</th>\n",
       "    </tr>\n",
       "  </thead>\n",
       "  <tbody>\n",
       "    <tr>\n",
       "      <th>0</th>\n",
       "      <td>1</td>\n",
       "      <td>Agent Cooper in Twin Peaks is the audience: on...</td>\n",
       "      <td>\\nTasha Robinson\\n</td>\n",
       "      <td>2017-05-31</td>\n",
       "      <td>And never more so than in Showtime’s new...</td>\n",
       "      <td>2017</td>\n",
       "      <td>5</td>\n",
       "      <td>Verge</td>\n",
       "      <td>Longform</td>\n",
       "      <td>1.0</td>\n",
       "      <td>None</td>\n",
       "      <td>None</td>\n",
       "    </tr>\n",
       "    <tr>\n",
       "      <th>1</th>\n",
       "      <td>2</td>\n",
       "      <td>AI, the humanity!</td>\n",
       "      <td>\\nSam Byford\\n</td>\n",
       "      <td>2017-05-30</td>\n",
       "      <td>AlphaGo’s victory isn’t a defeat for hum...</td>\n",
       "      <td>2017</td>\n",
       "      <td>5</td>\n",
       "      <td>Verge</td>\n",
       "      <td>Longform</td>\n",
       "      <td>1.0</td>\n",
       "      <td>None</td>\n",
       "      <td>None</td>\n",
       "    </tr>\n",
       "    <tr>\n",
       "      <th>2</th>\n",
       "      <td>3</td>\n",
       "      <td>The Viral Machine</td>\n",
       "      <td>\\nKaitlyn Tiffany\\n</td>\n",
       "      <td>2017-05-25</td>\n",
       "      <td>Super Deluxe built a weird internet empi...</td>\n",
       "      <td>2017</td>\n",
       "      <td>5</td>\n",
       "      <td>Verge</td>\n",
       "      <td>Longform</td>\n",
       "      <td>1.0</td>\n",
       "      <td>None</td>\n",
       "      <td>None</td>\n",
       "    </tr>\n",
       "    <tr>\n",
       "      <th>3</th>\n",
       "      <td>4</td>\n",
       "      <td>How Anker is beating Apple and Samsung at thei...</td>\n",
       "      <td>\\nNick Statt\\n</td>\n",
       "      <td>2017-05-22</td>\n",
       "      <td>Steven Yang quit his job at Google in th...</td>\n",
       "      <td>2017</td>\n",
       "      <td>5</td>\n",
       "      <td>Verge</td>\n",
       "      <td>Longform</td>\n",
       "      <td>1.0</td>\n",
       "      <td>None</td>\n",
       "      <td>None</td>\n",
       "    </tr>\n",
       "    <tr>\n",
       "      <th>4</th>\n",
       "      <td>5</td>\n",
       "      <td>Tour Black Panther’s reimagined homeland with ...</td>\n",
       "      <td>\\nKwame Opam\\n</td>\n",
       "      <td>2017-05-15</td>\n",
       "      <td>Ahead of Black Panther’s 2018 theatrical...</td>\n",
       "      <td>2017</td>\n",
       "      <td>5</td>\n",
       "      <td>Verge</td>\n",
       "      <td>Longform</td>\n",
       "      <td>1.0</td>\n",
       "      <td>None</td>\n",
       "      <td>None</td>\n",
       "    </tr>\n",
       "  </tbody>\n",
       "</table>\n",
       "</div>"
      ],
      "text/plain": [
       "   id                                              title               author  \\\n",
       "0   1  Agent Cooper in Twin Peaks is the audience: on...   \\nTasha Robinson\\n   \n",
       "1   2                                  AI, the humanity!       \\nSam Byford\\n   \n",
       "2   3                                  The Viral Machine  \\nKaitlyn Tiffany\\n   \n",
       "3   4  How Anker is beating Apple and Samsung at thei...       \\nNick Statt\\n   \n",
       "4   5  Tour Black Panther’s reimagined homeland with ...       \\nKwame Opam\\n   \n",
       "\n",
       "         date                                            content  year month  \\\n",
       "0  2017-05-31        And never more so than in Showtime’s new...  2017     5   \n",
       "1  2017-05-30        AlphaGo’s victory isn’t a defeat for hum...  2017     5   \n",
       "2  2017-05-25        Super Deluxe built a weird internet empi...  2017     5   \n",
       "3  2017-05-22        Steven Yang quit his job at Google in th...  2017     5   \n",
       "4  2017-05-15        Ahead of Black Panther’s 2018 theatrical...  2017     5   \n",
       "\n",
       "  publication  category  digital section   url  \n",
       "0       Verge  Longform      1.0    None  None  \n",
       "1       Verge  Longform      1.0    None  None  \n",
       "2       Verge  Longform      1.0    None  None  \n",
       "3       Verge  Longform      1.0    None  None  \n",
       "4       Verge  Longform      1.0    None  None  "
      ]
     },
     "execution_count": 2,
     "metadata": {},
     "output_type": "execute_result"
    }
   ],
   "source": [
    "# read data from source\n",
    "df = read_from_db(\"longform\", \"all-the-news.db\")\n",
    "df.head()"
   ]
  },
  {
   "cell_type": "code",
   "execution_count": 3,
   "metadata": {
    "pycharm": {
     "is_executing": false,
     "name": "#%%\n"
    },
    "scrolled": true
   },
   "outputs": [
    {
     "data": {
      "text/plain": [
       "newspaper       61264\n",
       "general         52152\n",
       "broadcast       18672\n",
       "wire            15055\n",
       "radio           12001\n",
       "business         8344\n",
       "Reports           854\n",
       "Exclusive         214\n",
       "Longform          137\n",
       "Book Reviews       20\n",
       "Name: category, dtype: int64"
      ]
     },
     "execution_count": 3,
     "metadata": {},
     "output_type": "execute_result"
    }
   ],
   "source": [
    "# get each label counts\n",
    "df_label_counts = df[\"category\"].value_counts()\n",
    "df_label_counts"
   ]
  },
  {
   "cell_type": "code",
   "execution_count": 4,
   "metadata": {
    "pycharm": {
     "is_executing": false
    }
   },
   "outputs": [
    {
     "data": {
      "image/png": "[encoded data removed]",
      "text/plain": [
       "<Figure size 1728x1152 with 1 Axes>"
      ]
     },
     "metadata": {},
     "output_type": "display_data"
    }
   ],
   "source": [
    "# visualize the sample counts of each label\n",
    "labels = list(df_label_counts.to_frame().index)\n",
    "counts = df_label_counts.values\n",
    "plot_bar_chart(labels, counts, \"Category - all\").show()"
   ]
  },
  {
   "cell_type": "code",
   "execution_count": 5,
   "metadata": {
    "pycharm": {
     "is_executing": false,
     "name": "#%%\n"
    },
    "scrolled": true
   },
   "outputs": [
    {
     "name": "stdout",
     "output_type": "stream",
     "text": [
      "<class 'pandas.core.frame.DataFrame'>\n",
      "RangeIndex: 204135 entries, 0 to 204134\n",
      "Data columns (total 12 columns):\n",
      " #   Column       Non-Null Count   Dtype  \n",
      "---  ------       --------------   -----  \n",
      " 0   id           204135 non-null  int64  \n",
      " 1   title        204135 non-null  object \n",
      " 2   author       172000 non-null  object \n",
      " 3   date         191532 non-null  object \n",
      " 4   content      191181 non-null  object \n",
      " 5   year         191532 non-null  object \n",
      " 6   month        191532 non-null  object \n",
      " 7   publication  196420 non-null  object \n",
      " 8   category     168713 non-null  object \n",
      " 9   digital      193115 non-null  float64\n",
      " 10  section      74572 non-null   object \n",
      " 11  url          98796 non-null   object \n",
      "dtypes: float64(1), int64(1), object(10)\n",
      "memory usage: 18.7+ MB\n",
      "#################################################\n",
      "############ DATA QUALITY RESULT ################\n",
      "#################################################\n",
      "\n",
      "Number of sample in data set:204135.\n",
      "Number of classes in data set: 11 and they are: ['Longform' 'Reports' 'Exclusive' 'Book Reviews' 'newspaper' 'general'\n",
      "'broadcast' 'business' None 'radio' 'wire'].\n",
      "Columns in data set:['id', 'title', 'author', 'date', 'content', 'year', 'month', 'publication', 'category', 'digital', 'section', 'url'].\n",
      "\n",
      "\n",
      "\n",
      "################### INFO ########################\n",
      "\n",
      "None.\n",
      "\n",
      "\n",
      "\n",
      "############## SUMMARY STATISTICS ###############\n",
      "\n",
      "id        digital\n",
      "count  204135.000000  193115.000000\n",
      "mean   128740.365807       1.060435\n",
      "std     75939.869673       1.200331\n",
      "min         1.000000       0.000000\n",
      "25%     59649.500000       0.000000\n",
      "50%    127039.000000       1.000000\n",
      "75%    194646.500000       1.000000\n",
      "max    271698.000000       4.000000.\n",
      "\n",
      "\n",
      "\n",
      "############## NULL PERCENTAGES #################\n",
      "\n",
      "Column: id  percent of null values:  %0.0.\n",
      "Column: title  percent of null values:  %0.0.\n",
      "Column: author  percent of null values:  %15.742033458250667.\n",
      "Column: date  percent of null values:  %6.173855536777133.\n",
      "Column: content  percent of null values:  %6.345800573150121.\n",
      "Column: year  percent of null values:  %6.173855536777133.\n",
      "Column: month  percent of null values:  %6.173855536777133.\n",
      "Column: publication  percent of null values:  %3.7793616969162565.\n",
      "Column: category  percent of null values:  %17.352242388615377.\n",
      "Column: digital  percent of null values:  %5.39838832145394.\n",
      "Column: section  percent of null values:  %63.46927278516668.\n",
      "Column: url  percent of null values:  %51.60261591593798.\n"
     ]
    }
   ],
   "source": [
    "## Data Information\n",
    "missing_value_df = create_data_quality_report(df, \"category\")"
   ]
  },
  {
   "cell_type": "code",
   "execution_count": 6,
   "metadata": {
    "pycharm": {
     "is_executing": false
    },
    "scrolled": true
   },
   "outputs": [
    {
     "data": {
      "text/html": [
       "<div>\n",
       "<style scoped>\n",
       "    .dataframe tbody tr th:only-of-type {\n",
       "        vertical-align: middle;\n",
       "    }\n",
       "\n",
       "    .dataframe tbody tr th {\n",
       "        vertical-align: top;\n",
       "    }\n",
       "\n",
       "    .dataframe thead th {\n",
       "        text-align: right;\n",
       "    }\n",
       "</style>\n",
       "<table border=\"1\" class=\"dataframe\">\n",
       "  <thead>\n",
       "    <tr style=\"text-align: right;\">\n",
       "      <th></th>\n",
       "      <th>column_name</th>\n",
       "      <th>percent_missing</th>\n",
       "    </tr>\n",
       "  </thead>\n",
       "  <tbody>\n",
       "    <tr>\n",
       "      <th>id</th>\n",
       "      <td>id</td>\n",
       "      <td>0.000000</td>\n",
       "    </tr>\n",
       "    <tr>\n",
       "      <th>title</th>\n",
       "      <td>title</td>\n",
       "      <td>0.000000</td>\n",
       "    </tr>\n",
       "    <tr>\n",
       "      <th>author</th>\n",
       "      <td>author</td>\n",
       "      <td>15.742033</td>\n",
       "    </tr>\n",
       "    <tr>\n",
       "      <th>date</th>\n",
       "      <td>date</td>\n",
       "      <td>6.173856</td>\n",
       "    </tr>\n",
       "    <tr>\n",
       "      <th>content</th>\n",
       "      <td>content</td>\n",
       "      <td>6.345801</td>\n",
       "    </tr>\n",
       "    <tr>\n",
       "      <th>year</th>\n",
       "      <td>year</td>\n",
       "      <td>6.173856</td>\n",
       "    </tr>\n",
       "    <tr>\n",
       "      <th>month</th>\n",
       "      <td>month</td>\n",
       "      <td>6.173856</td>\n",
       "    </tr>\n",
       "    <tr>\n",
       "      <th>publication</th>\n",
       "      <td>publication</td>\n",
       "      <td>3.779362</td>\n",
       "    </tr>\n",
       "    <tr>\n",
       "      <th>category</th>\n",
       "      <td>category</td>\n",
       "      <td>17.352242</td>\n",
       "    </tr>\n",
       "    <tr>\n",
       "      <th>digital</th>\n",
       "      <td>digital</td>\n",
       "      <td>5.398388</td>\n",
       "    </tr>\n",
       "    <tr>\n",
       "      <th>section</th>\n",
       "      <td>section</td>\n",
       "      <td>63.469273</td>\n",
       "    </tr>\n",
       "    <tr>\n",
       "      <th>url</th>\n",
       "      <td>url</td>\n",
       "      <td>51.602616</td>\n",
       "    </tr>\n",
       "  </tbody>\n",
       "</table>\n",
       "</div>"
      ],
      "text/plain": [
       "             column_name  percent_missing\n",
       "id                    id         0.000000\n",
       "title              title         0.000000\n",
       "author            author        15.742033\n",
       "date                date         6.173856\n",
       "content          content         6.345801\n",
       "year                year         6.173856\n",
       "month              month         6.173856\n",
       "publication  publication         3.779362\n",
       "category        category        17.352242\n",
       "digital          digital         5.398388\n",
       "section          section        63.469273\n",
       "url                  url        51.602616"
      ]
     },
     "execution_count": 6,
     "metadata": {},
     "output_type": "execute_result"
    }
   ],
   "source": [
    "missing_value_df"
   ]
  },
  {
   "cell_type": "code",
   "execution_count": 7,
   "metadata": {
    "pycharm": {
     "is_executing": false,
     "name": "#%%\n"
    }
   },
   "outputs": [
    {
     "name": "stdout",
     "output_type": "stream",
     "text": [
      "<class 'pandas.core.frame.DataFrame'>\n",
      "RangeIndex: 204135 entries, 0 to 204134\n",
      "Data columns (total 2 columns):\n",
      " #   Column    Non-Null Count   Dtype \n",
      "---  ------    --------------   ----- \n",
      " 0   content   191181 non-null  object\n",
      " 1   category  168713 non-null  object\n",
      "dtypes: object(2)\n",
      "memory usage: 3.1+ MB\n"
     ]
    }
   ],
   "source": [
    "# select columns for operations\n",
    "df_selected = df[[\"content\", \"category\"]]\n",
    "df_selected.info()\n"
   ]
  },
  {
   "cell_type": "code",
   "execution_count": 8,
   "metadata": {},
   "outputs": [
    {
     "data": {
      "text/html": [
       "<div>\n",
       "<style scoped>\n",
       "    .dataframe tbody tr th:only-of-type {\n",
       "        vertical-align: middle;\n",
       "    }\n",
       "\n",
       "    .dataframe tbody tr th {\n",
       "        vertical-align: top;\n",
       "    }\n",
       "\n",
       "    .dataframe thead th {\n",
       "        text-align: right;\n",
       "    }\n",
       "</style>\n",
       "<table border=\"1\" class=\"dataframe\">\n",
       "  <thead>\n",
       "    <tr style=\"text-align: right;\">\n",
       "      <th></th>\n",
       "      <th>content</th>\n",
       "      <th>category</th>\n",
       "    </tr>\n",
       "  </thead>\n",
       "  <tbody>\n",
       "    <tr>\n",
       "      <th>0</th>\n",
       "      <td>And never more so than in Showtime’s new...</td>\n",
       "      <td>Longform</td>\n",
       "    </tr>\n",
       "    <tr>\n",
       "      <th>1</th>\n",
       "      <td>AlphaGo’s victory isn’t a defeat for hum...</td>\n",
       "      <td>Longform</td>\n",
       "    </tr>\n",
       "    <tr>\n",
       "      <th>2</th>\n",
       "      <td>Super Deluxe built a weird internet empi...</td>\n",
       "      <td>Longform</td>\n",
       "    </tr>\n",
       "    <tr>\n",
       "      <th>3</th>\n",
       "      <td>Steven Yang quit his job at Google in th...</td>\n",
       "      <td>Longform</td>\n",
       "    </tr>\n",
       "    <tr>\n",
       "      <th>4</th>\n",
       "      <td>Ahead of Black Panther’s 2018 theatrical...</td>\n",
       "      <td>Longform</td>\n",
       "    </tr>\n",
       "    <tr>\n",
       "      <th>...</th>\n",
       "      <td>...</td>\n",
       "      <td>...</td>\n",
       "    </tr>\n",
       "    <tr>\n",
       "      <th>204130</th>\n",
       "      <td>None</td>\n",
       "      <td>None</td>\n",
       "    </tr>\n",
       "    <tr>\n",
       "      <th>204131</th>\n",
       "      <td>Sammy Stewart, who set a record when he struck...</td>\n",
       "      <td>newspaper</td>\n",
       "    </tr>\n",
       "    <tr>\n",
       "      <th>204132</th>\n",
       "      <td>Good morning. (Want to get California Today by...</td>\n",
       "      <td>newspaper</td>\n",
       "    </tr>\n",
       "    <tr>\n",
       "      <th>204133</th>\n",
       "      <td>None</td>\n",
       "      <td>None</td>\n",
       "    </tr>\n",
       "    <tr>\n",
       "      <th>204134</th>\n",
       "      <td></td>\n",
       "      <td>None</td>\n",
       "    </tr>\n",
       "  </tbody>\n",
       "</table>\n",
       "<p>204135 rows × 2 columns</p>\n",
       "</div>"
      ],
      "text/plain": [
       "                                                  content   category\n",
       "0             And never more so than in Showtime’s new...   Longform\n",
       "1             AlphaGo’s victory isn’t a defeat for hum...   Longform\n",
       "2             Super Deluxe built a weird internet empi...   Longform\n",
       "3             Steven Yang quit his job at Google in th...   Longform\n",
       "4             Ahead of Black Panther’s 2018 theatrical...   Longform\n",
       "...                                                   ...        ...\n",
       "204130                                               None       None\n",
       "204131  Sammy Stewart, who set a record when he struck...  newspaper\n",
       "204132  Good morning. (Want to get California Today by...  newspaper\n",
       "204133                                               None       None\n",
       "204134                                                          None\n",
       "\n",
       "[204135 rows x 2 columns]"
      ]
     },
     "execution_count": 8,
     "metadata": {},
     "output_type": "execute_result"
    }
   ],
   "source": [
    "df_selected"
   ]
  },
  {
   "cell_type": "code",
   "execution_count": 9,
   "metadata": {},
   "outputs": [
    {
     "name": "stdout",
     "output_type": "stream",
     "text": [
      "<class 'pandas.core.frame.DataFrame'>\n",
      "Int64Index: 151530 entries, 0 to 204132\n",
      "Data columns (total 2 columns):\n",
      " #   Column    Non-Null Count   Dtype \n",
      "---  ------    --------------   ----- \n",
      " 0   content   151530 non-null  object\n",
      " 1   category  151530 non-null  object\n",
      "dtypes: object(2)\n",
      "memory usage: 3.5+ MB\n"
     ]
    }
   ],
   "source": [
    "# drop null values and duplicate values\n",
    "df_selected['content'].replace('', np.nan, inplace=True)\n",
    "df_selected = df_selected.dropna()\n",
    "df_selected = df_selected.drop_duplicates()\n",
    "df_selected.info()"
   ]
  },
  {
   "cell_type": "code",
   "execution_count": 10,
   "metadata": {},
   "outputs": [
    {
     "data": {
      "text/html": [
       "<div>\n",
       "<style scoped>\n",
       "    .dataframe tbody tr th:only-of-type {\n",
       "        vertical-align: middle;\n",
       "    }\n",
       "\n",
       "    .dataframe tbody tr th {\n",
       "        vertical-align: top;\n",
       "    }\n",
       "\n",
       "    .dataframe thead th {\n",
       "        text-align: right;\n",
       "    }\n",
       "</style>\n",
       "<table border=\"1\" class=\"dataframe\">\n",
       "  <thead>\n",
       "    <tr style=\"text-align: right;\">\n",
       "      <th></th>\n",
       "      <th>content</th>\n",
       "      <th>category</th>\n",
       "    </tr>\n",
       "  </thead>\n",
       "  <tbody>\n",
       "    <tr>\n",
       "      <th>0</th>\n",
       "      <td>And never more so than in Showtime’s new...</td>\n",
       "      <td>Longform</td>\n",
       "    </tr>\n",
       "    <tr>\n",
       "      <th>1</th>\n",
       "      <td>AlphaGo’s victory isn’t a defeat for hum...</td>\n",
       "      <td>Longform</td>\n",
       "    </tr>\n",
       "    <tr>\n",
       "      <th>2</th>\n",
       "      <td>Super Deluxe built a weird internet empi...</td>\n",
       "      <td>Longform</td>\n",
       "    </tr>\n",
       "    <tr>\n",
       "      <th>3</th>\n",
       "      <td>Steven Yang quit his job at Google in th...</td>\n",
       "      <td>Longform</td>\n",
       "    </tr>\n",
       "    <tr>\n",
       "      <th>4</th>\n",
       "      <td>Ahead of Black Panther’s 2018 theatrical...</td>\n",
       "      <td>Longform</td>\n",
       "    </tr>\n",
       "    <tr>\n",
       "      <th>...</th>\n",
       "      <td>...</td>\n",
       "      <td>...</td>\n",
       "    </tr>\n",
       "    <tr>\n",
       "      <th>204126</th>\n",
       "      <td>SAN FRANCISCO — Airbnb agreed on Monday to set...</td>\n",
       "      <td>newspaper</td>\n",
       "    </tr>\n",
       "    <tr>\n",
       "      <th>204127</th>\n",
       "      <td>In the Band’s popular song “The Night They Dro...</td>\n",
       "      <td>newspaper</td>\n",
       "    </tr>\n",
       "    <tr>\n",
       "      <th>204129</th>\n",
       "      <td>The Rev. Billy Graham admitted in his later ye...</td>\n",
       "      <td>newspaper</td>\n",
       "    </tr>\n",
       "    <tr>\n",
       "      <th>204131</th>\n",
       "      <td>Sammy Stewart, who set a record when he struck...</td>\n",
       "      <td>newspaper</td>\n",
       "    </tr>\n",
       "    <tr>\n",
       "      <th>204132</th>\n",
       "      <td>Good morning. (Want to get California Today by...</td>\n",
       "      <td>newspaper</td>\n",
       "    </tr>\n",
       "  </tbody>\n",
       "</table>\n",
       "<p>151530 rows × 2 columns</p>\n",
       "</div>"
      ],
      "text/plain": [
       "                                                  content   category\n",
       "0             And never more so than in Showtime’s new...   Longform\n",
       "1             AlphaGo’s victory isn’t a defeat for hum...   Longform\n",
       "2             Super Deluxe built a weird internet empi...   Longform\n",
       "3             Steven Yang quit his job at Google in th...   Longform\n",
       "4             Ahead of Black Panther’s 2018 theatrical...   Longform\n",
       "...                                                   ...        ...\n",
       "204126  SAN FRANCISCO — Airbnb agreed on Monday to set...  newspaper\n",
       "204127  In the Band’s popular song “The Night They Dro...  newspaper\n",
       "204129  The Rev. Billy Graham admitted in his later ye...  newspaper\n",
       "204131  Sammy Stewart, who set a record when he struck...  newspaper\n",
       "204132  Good morning. (Want to get California Today by...  newspaper\n",
       "\n",
       "[151530 rows x 2 columns]"
      ]
     },
     "execution_count": 10,
     "metadata": {},
     "output_type": "execute_result"
    }
   ],
   "source": [
    "df_selected"
   ]
  },
  {
   "cell_type": "code",
   "execution_count": 13,
   "metadata": {},
   "outputs": [
    {
     "data": {
      "text/plain": [
       "array(['newspaper', 'general', 'broadcast', 'business', 'radio', 'wire'],\n",
       "      dtype=object)"
      ]
     },
     "execution_count": 13,
     "metadata": {},
     "output_type": "execute_result"
    }
   ],
   "source": [
    "# number of rows is high so that we select just few of the publications contents\n",
    "# broadcast       18672\n",
    "# wire            15055\n",
    "# radio           12001\n",
    "# business         8344\n",
    "options = [\"broadcast\", \"wire\", \"radio\", \"business\", \"newspaper\", \"general\"]\n",
    "df_sampled = df_selected.loc[df_selected['category'].isin(options)]\n",
    "df_sampled[\"category\"].unique()"
   ]
  },
  {
   "cell_type": "code",
   "execution_count": 14,
   "metadata": {},
   "outputs": [
    {
     "data": {
      "text/plain": [
       "newspaper    58975\n",
       "general      46020\n",
       "broadcast    15861\n",
       "radio        11997\n",
       "wire         10714\n",
       "business      6739\n",
       "Name: category, dtype: int64"
      ]
     },
     "execution_count": 14,
     "metadata": {},
     "output_type": "execute_result"
    }
   ],
   "source": [
    "df_sampled_label_counts = df_sampled['category'].value_counts()\n",
    "df_sampled_label_counts"
   ]
  },
  {
   "cell_type": "code",
   "execution_count": 15,
   "metadata": {},
   "outputs": [
    {
     "data": {
      "image/png": "[encoded data removed]",
      "text/plain": [
       "<Figure size 1728x1152 with 1 Axes>"
      ]
     },
     "metadata": {},
     "output_type": "display_data"
    }
   ],
   "source": [
    "# visualize the sample counts of each label\n",
    "labels = list(df_sampled_label_counts.to_frame().index)\n",
    "counts = df_sampled_label_counts.values\n",
    "plot_bar_chart(labels, counts, \"Category - selected\").show()"
   ]
  },
  {
   "cell_type": "code",
   "execution_count": 16,
   "metadata": {},
   "outputs": [
    {
     "data": {
      "text/html": [
       "<div>\n",
       "<style scoped>\n",
       "    .dataframe tbody tr th:only-of-type {\n",
       "        vertical-align: middle;\n",
       "    }\n",
       "\n",
       "    .dataframe tbody tr th {\n",
       "        vertical-align: top;\n",
       "    }\n",
       "\n",
       "    .dataframe thead th {\n",
       "        text-align: right;\n",
       "    }\n",
       "</style>\n",
       "<table border=\"1\" class=\"dataframe\">\n",
       "  <thead>\n",
       "    <tr style=\"text-align: right;\">\n",
       "      <th></th>\n",
       "      <th>content</th>\n",
       "      <th>category</th>\n",
       "    </tr>\n",
       "  </thead>\n",
       "  <tbody>\n",
       "    <tr>\n",
       "      <th>1225</th>\n",
       "      <td>The winter sitout period ends on Monday for tr...</td>\n",
       "      <td>newspaper</td>\n",
       "    </tr>\n",
       "    <tr>\n",
       "      <th>1226</th>\n",
       "      <td>\"At least 23 people were killed and 17 others ...</td>\n",
       "      <td>newspaper</td>\n",
       "    </tr>\n",
       "    <tr>\n",
       "      <th>1227</th>\n",
       "      <td>Hello! I’m Mark Olsen, and welcome to your wee...</td>\n",
       "      <td>newspaper</td>\n",
       "    </tr>\n",
       "    <tr>\n",
       "      <th>1228</th>\n",
       "      <td>Though Carrie Fisher is best known as Princess...</td>\n",
       "      <td>newspaper</td>\n",
       "    </tr>\n",
       "    <tr>\n",
       "      <th>1229</th>\n",
       "      <td>There was no place like home for Jeff Carter a...</td>\n",
       "      <td>newspaper</td>\n",
       "    </tr>\n",
       "    <tr>\n",
       "      <th>...</th>\n",
       "      <td>...</td>\n",
       "      <td>...</td>\n",
       "    </tr>\n",
       "    <tr>\n",
       "      <th>204126</th>\n",
       "      <td>SAN FRANCISCO — Airbnb agreed on Monday to set...</td>\n",
       "      <td>newspaper</td>\n",
       "    </tr>\n",
       "    <tr>\n",
       "      <th>204127</th>\n",
       "      <td>In the Band’s popular song “The Night They Dro...</td>\n",
       "      <td>newspaper</td>\n",
       "    </tr>\n",
       "    <tr>\n",
       "      <th>204129</th>\n",
       "      <td>The Rev. Billy Graham admitted in his later ye...</td>\n",
       "      <td>newspaper</td>\n",
       "    </tr>\n",
       "    <tr>\n",
       "      <th>204131</th>\n",
       "      <td>Sammy Stewart, who set a record when he struck...</td>\n",
       "      <td>newspaper</td>\n",
       "    </tr>\n",
       "    <tr>\n",
       "      <th>204132</th>\n",
       "      <td>Good morning. (Want to get California Today by...</td>\n",
       "      <td>newspaper</td>\n",
       "    </tr>\n",
       "  </tbody>\n",
       "</table>\n",
       "<p>150306 rows × 2 columns</p>\n",
       "</div>"
      ],
      "text/plain": [
       "                                                  content   category\n",
       "1225    The winter sitout period ends on Monday for tr...  newspaper\n",
       "1226    \"At least 23 people were killed and 17 others ...  newspaper\n",
       "1227    Hello! I’m Mark Olsen, and welcome to your wee...  newspaper\n",
       "1228    Though Carrie Fisher is best known as Princess...  newspaper\n",
       "1229    There was no place like home for Jeff Carter a...  newspaper\n",
       "...                                                   ...        ...\n",
       "204126  SAN FRANCISCO — Airbnb agreed on Monday to set...  newspaper\n",
       "204127  In the Band’s popular song “The Night They Dro...  newspaper\n",
       "204129  The Rev. Billy Graham admitted in his later ye...  newspaper\n",
       "204131  Sammy Stewart, who set a record when he struck...  newspaper\n",
       "204132  Good morning. (Want to get California Today by...  newspaper\n",
       "\n",
       "[150306 rows x 2 columns]"
      ]
     },
     "execution_count": 16,
     "metadata": {},
     "output_type": "execute_result"
    }
   ],
   "source": [
    "df_sampled"
   ]
  },
  {
   "cell_type": "code",
   "execution_count": 17,
   "metadata": {},
   "outputs": [],
   "source": [
    "# apply preprocess operations\n",
    "preprocess_operations = [to_lower, remove_hyperlink, remove_number, remove_punctuation, remove_whitespace,\n",
    "                         replace_special_chars, remove_stopwords, apply_stemmer, remove_less_than_two]"
   ]
  },
  {
   "cell_type": "code",
   "execution_count": 18,
   "metadata": {},
   "outputs": [
    {
     "data": {
      "text/plain": [
       "\"When Tanner Pearson got off to a hot start this season, he didn’t have any illusions that it would be like that the rest of the way.', 'Pearson scored four goals in his first three games in an almost identical start to two seasons ago, and that took an awful turn. He scored only eight more times in the ensuing three months before his season ended because of a fractured fibula', '“I learned my lesson a couple years back,” Pearson said.', 'Not that Pearson is a sage veteran at 24, but that experience taught him that consistency is elusive and seasons can change drastically.', 'Since this season’s opening outburst, he had scored only four goals in 31 games going into Saturday’s contest against the San Jose Sharks.\\\\xa0', 'His struggle reflects the Kings’ offensive issues. They had scored 11 goals in seven previous games, and five of those goals were from Jeff Carter.', '“We’ve been too inconsistent, which has been our biggest issue,” Drew Doughty said. “We haven’t scored enough goals … I think it’s just scoring on our chances. It’s not that we haven’t got shots or good looks at the net. When we get those looks, we’ve got to score.”', 'It’s easy to point out that Kings haven’t been able to adequately replace Milan Lucic and his 20 goals and 55 points from last season. They’ve had to find goals internally, and it’s been more difficult when Anze Kopitar and Marian Gaborik aren’t at their usual clips.', 'Pearson is regarded as more of a two-way forward but he is also expected to contribute offensively, especially since he’s mostly played beside skill players Carter and Kopitar this month and sees time on the power play.', 'Add in the absence of injured Tyler Toffoli, and the need for production from the Kings’ secondary forwards such as Pearson becomes more pronounced. Kings Coach Darryl Sutter said Pearson has been strong in possession and man-advantage situations, but Pearson knows it hasn’t translated to the scoresheet.', '“You’ve just got to keep on doing the little things,” Pearson said. “I think you keep on getting your shots and getting your looks, which I think have been coming. Sooner or later one’s going to go in. You keep on putting stuff to the net. Even if you don’t score, you’re going to create something or a second chance.”', 'If Pearson sounds like he’s been around the game long enough to know its ebbs and flows, it might trace back to his days as a water boy and stick boy for the junior hockey Kitchener Rangers. He remembers fetching sticks for current NHL players Jakub Kindl, Mikkel Boedker and Steve Mason and seeing them work through frustration.', 'Pearson’s road to the NHL saw him get passed over twice in the draft. He wasn’t even drafted into the Ontario Hockey League until the 14th round, and he later suffered a broken leg as a 19-year-old.', 'Pearson still works out under Kitchener strength coach Brandon Merli, and those offseason sessions help him get through the pounding his body takes during these spells. He ended a long one Wednesday with his first goal in six weeks.', '“Everyone has those stretches, and mine was a bit longer that I would have liked,” Pearson said. “I got one the other day and hopefully it gets me back on track and gets the ball rolling.”\""
      ]
     },
     "execution_count": 18,
     "metadata": {},
     "output_type": "execute_result"
    }
   ],
   "source": [
    "# example result\n",
    "df_sampled[\"content\"].values[12]"
   ]
  },
  {
   "cell_type": "code",
   "execution_count": 19,
   "metadata": {},
   "outputs": [
    {
     "data": {
      "text/plain": [
       "['tanner pearson got hot start season didn illus like rest way pearson score goal game ident start season ago took turn score time ensu month season end fractur fibula learn lesson coupl year pearson said pearson sage veteran experi taught consist elus season chang drastic season open outburst score goal game saturday contest san jose struggl reflect king offens issu score goal seven previou game goal jeff carter inconsist biggest issu drew doughti said haven score goal think just score chanc haven got shot good look net look got score easi point king haven abl adequ replac milan lucic goal point season goal intern difficult anz kopitar marian gaborik aren usual clip pearson regard twoway forward expect contribut offens especi play skill player carter kopitar month see time power play add absenc injur tyler toffoli need product king secondari forward pearson pronounc king coach darryl sutter said pearson strong possess manadvantag situat pearson know hasn translat scoresheet just got littl thing pearson said think get shot get look think come sooner later put stuff net don score creat second chanc pearson sound like game long know ebb flow trace day water boy stick boy junior hockey kitchen ranger rememb fetch stick current nhl player jakub kindl mikkel boedker steve mason see work frustrat pearson road nhl saw pass twice draft wasn draft ontario hockey leagu round later suffer broken leg pearson work strength coach brandon merli offseason session help pound bodi take spell end long wednesday goal week stretch bit longer like pearson said got day hope get track get ball roll']"
      ]
     },
     "execution_count": 19,
     "metadata": {},
     "output_type": "execute_result"
    }
   ],
   "source": [
    "apply_preprocess_operations_to_corpus([df_sampled[\"content\"].values[12]], preprocess_operations)"
   ]
  },
  {
   "cell_type": "code",
   "execution_count": 20,
   "metadata": {},
   "outputs": [
    {
     "name": "stdout",
     "output_type": "stream",
     "text": [
      "Processed 150306 samples.\n",
      "\n",
      "It's took 86.55897422234217 minutes.\n"
     ]
    }
   ],
   "source": [
    "# apply preprocess operation all the data\n",
    "start = time.time()\n",
    "for operation in preprocess_operations:\n",
    "    df_sampled[\"content\"] = df_sampled[\"content\"].apply(operation)\n",
    "print(f\"Processed {len(df_sampled)} samples.\\n\")\n",
    "print(f\"It's took {(time.time()-start) / 60} minutes.\")"
   ]
  },
  {
   "cell_type": "code",
   "execution_count": 21,
   "metadata": {},
   "outputs": [
    {
     "name": "stdout",
     "output_type": "stream",
     "text": [
      "Data is wrote to path C:\\Users\\user\\Desktop\\nlp_project/data/, with name preprocess_completed\n"
     ]
    }
   ],
   "source": [
    "write_to_db(\"preprocess_completed\", df_sampled, \"preprocessed.db\")"
   ]
  },
  {
   "cell_type": "code",
   "execution_count": null,
   "metadata": {},
   "outputs": [],
   "source": []
  }
 ],
 "metadata": {
  "kernelspec": {
   "display_name": "Python 3",
   "language": "python",
   "name": "python3"
  },
  "language_info": {
   "codemirror_mode": {
    "name": "ipython",
    "version": 3
   },
   "file_extension": ".py",
   "mimetype": "text/x-python",
   "name": "python",
   "nbconvert_exporter": "python",
   "pygments_lexer": "ipython3",
   "version": "3.7.7"
  },
  "pycharm": {
   "stem_cell": {
    "cell_type": "raw",
    "metadata": {
     "collapsed": false
    },
    "source": []
   }
  }
 },
 "nbformat": 4,
 "nbformat_minor": 1
}
