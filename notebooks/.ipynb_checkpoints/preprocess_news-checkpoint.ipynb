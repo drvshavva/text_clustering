{
 "cells": [
  {
   "cell_type": "code",
   "execution_count": 1,
   "metadata": {
    "pycharm": {
     "is_executing": false
    }
   },
   "outputs": [
    {
     "name": "stderr",
     "output_type": "stream",
     "text": [
      "c:\\users\\user\\anaconda3\\envs\\findcategory\\lib\\site-packages\\sklearn\\utils\\deprecation.py:143: FutureWarning: The sklearn.feature_extraction.stop_words module is  deprecated in version 0.22 and will be removed in version 0.24. The corresponding classes / functions should instead be imported from sklearn.feature_extraction.text. Anything that cannot be imported from sklearn.feature_extraction.text is now part of the private API.\n",
      "  warnings.warn(message, FutureWarning)\n"
     ]
    }
   ],
   "source": [
    "# import libraries\n",
    "from src.features.preprocess import *\n",
    "from src.data.rw_utils import read_from_db, write_to_db\n",
    "from src.data.data_quality import create_data_quality_report\n",
    "from src.data.plots import plot_bar_chart, plot_wordcloud\n",
    "import time\n",
    "import numpy as np\n"
   ]
  },
  {
   "cell_type": "code",
   "execution_count": 2,
   "metadata": {
    "pycharm": {
     "is_executing": false,
     "name": "#%%\n"
    },
    "scrolled": false
   },
   "outputs": [
    {
     "name": "stdout",
     "output_type": "stream",
     "text": [
      "Data is read. Len of the data 204135 and columns Index(['id', 'title', 'author', 'date', 'content', 'year', 'month',\n",
      "       'publication', 'category', 'digital', 'section', 'url'],\n",
      "      dtype='object')\n"
     ]
    },
    {
     "data": {
      "text/html": [
       "<div>\n",
       "<style scoped>\n",
       "    .dataframe tbody tr th:only-of-type {\n",
       "        vertical-align: middle;\n",
       "    }\n",
       "\n",
       "    .dataframe tbody tr th {\n",
       "        vertical-align: top;\n",
       "    }\n",
       "\n",
       "    .dataframe thead th {\n",
       "        text-align: right;\n",
       "    }\n",
       "</style>\n",
       "<table border=\"1\" class=\"dataframe\">\n",
       "  <thead>\n",
       "    <tr style=\"text-align: right;\">\n",
       "      <th></th>\n",
       "      <th>id</th>\n",
       "      <th>title</th>\n",
       "      <th>author</th>\n",
       "      <th>date</th>\n",
       "      <th>content</th>\n",
       "      <th>year</th>\n",
       "      <th>month</th>\n",
       "      <th>publication</th>\n",
       "      <th>category</th>\n",
       "      <th>digital</th>\n",
       "      <th>section</th>\n",
       "      <th>url</th>\n",
       "    </tr>\n",
       "  </thead>\n",
       "  <tbody>\n",
       "    <tr>\n",
       "      <th>0</th>\n",
       "      <td>1</td>\n",
       "      <td>Agent Cooper in Twin Peaks is the audience: on...</td>\n",
       "      <td>\\nTasha Robinson\\n</td>\n",
       "      <td>2017-05-31</td>\n",
       "      <td>And never more so than in Showtime’s new...</td>\n",
       "      <td>2017</td>\n",
       "      <td>5</td>\n",
       "      <td>Verge</td>\n",
       "      <td>Longform</td>\n",
       "      <td>1.0</td>\n",
       "      <td>None</td>\n",
       "      <td>None</td>\n",
       "    </tr>\n",
       "    <tr>\n",
       "      <th>1</th>\n",
       "      <td>2</td>\n",
       "      <td>AI, the humanity!</td>\n",
       "      <td>\\nSam Byford\\n</td>\n",
       "      <td>2017-05-30</td>\n",
       "      <td>AlphaGo’s victory isn’t a defeat for hum...</td>\n",
       "      <td>2017</td>\n",
       "      <td>5</td>\n",
       "      <td>Verge</td>\n",
       "      <td>Longform</td>\n",
       "      <td>1.0</td>\n",
       "      <td>None</td>\n",
       "      <td>None</td>\n",
       "    </tr>\n",
       "    <tr>\n",
       "      <th>2</th>\n",
       "      <td>3</td>\n",
       "      <td>The Viral Machine</td>\n",
       "      <td>\\nKaitlyn Tiffany\\n</td>\n",
       "      <td>2017-05-25</td>\n",
       "      <td>Super Deluxe built a weird internet empi...</td>\n",
       "      <td>2017</td>\n",
       "      <td>5</td>\n",
       "      <td>Verge</td>\n",
       "      <td>Longform</td>\n",
       "      <td>1.0</td>\n",
       "      <td>None</td>\n",
       "      <td>None</td>\n",
       "    </tr>\n",
       "    <tr>\n",
       "      <th>3</th>\n",
       "      <td>4</td>\n",
       "      <td>How Anker is beating Apple and Samsung at thei...</td>\n",
       "      <td>\\nNick Statt\\n</td>\n",
       "      <td>2017-05-22</td>\n",
       "      <td>Steven Yang quit his job at Google in th...</td>\n",
       "      <td>2017</td>\n",
       "      <td>5</td>\n",
       "      <td>Verge</td>\n",
       "      <td>Longform</td>\n",
       "      <td>1.0</td>\n",
       "      <td>None</td>\n",
       "      <td>None</td>\n",
       "    </tr>\n",
       "    <tr>\n",
       "      <th>4</th>\n",
       "      <td>5</td>\n",
       "      <td>Tour Black Panther’s reimagined homeland with ...</td>\n",
       "      <td>\\nKwame Opam\\n</td>\n",
       "      <td>2017-05-15</td>\n",
       "      <td>Ahead of Black Panther’s 2018 theatrical...</td>\n",
       "      <td>2017</td>\n",
       "      <td>5</td>\n",
       "      <td>Verge</td>\n",
       "      <td>Longform</td>\n",
       "      <td>1.0</td>\n",
       "      <td>None</td>\n",
       "      <td>None</td>\n",
       "    </tr>\n",
       "  </tbody>\n",
       "</table>\n",
       "</div>"
      ],
      "text/plain": [
       "   id                                              title               author  \\\n",
       "0   1  Agent Cooper in Twin Peaks is the audience: on...   \\nTasha Robinson\\n   \n",
       "1   2                                  AI, the humanity!       \\nSam Byford\\n   \n",
       "2   3                                  The Viral Machine  \\nKaitlyn Tiffany\\n   \n",
       "3   4  How Anker is beating Apple and Samsung at thei...       \\nNick Statt\\n   \n",
       "4   5  Tour Black Panther’s reimagined homeland with ...       \\nKwame Opam\\n   \n",
       "\n",
       "         date                                            content  year month  \\\n",
       "0  2017-05-31        And never more so than in Showtime’s new...  2017     5   \n",
       "1  2017-05-30        AlphaGo’s victory isn’t a defeat for hum...  2017     5   \n",
       "2  2017-05-25        Super Deluxe built a weird internet empi...  2017     5   \n",
       "3  2017-05-22        Steven Yang quit his job at Google in th...  2017     5   \n",
       "4  2017-05-15        Ahead of Black Panther’s 2018 theatrical...  2017     5   \n",
       "\n",
       "  publication  category  digital section   url  \n",
       "0       Verge  Longform      1.0    None  None  \n",
       "1       Verge  Longform      1.0    None  None  \n",
       "2       Verge  Longform      1.0    None  None  \n",
       "3       Verge  Longform      1.0    None  None  \n",
       "4       Verge  Longform      1.0    None  None  "
      ]
     },
     "execution_count": 2,
     "metadata": {},
     "output_type": "execute_result"
    }
   ],
   "source": [
    "# read data from source\n",
    "df = read_from_db(\"longform\", \"news.db\")\n",
    "df.head()"
   ]
  },
  {
   "cell_type": "code",
   "execution_count": 3,
   "metadata": {
    "pycharm": {
     "is_executing": false,
     "name": "#%%\n"
    }
   },
   "outputs": [
    {
     "data": {
      "text/plain": [
       "newspaper       61264\n",
       "general         52152\n",
       "broadcast       18672\n",
       "wire            15055\n",
       "radio           12001\n",
       "business         8344\n",
       "Reports           854\n",
       "Exclusive         214\n",
       "Longform          137\n",
       "Book Reviews       20\n",
       "Name: category, dtype: int64"
      ]
     },
     "execution_count": 3,
     "metadata": {},
     "output_type": "execute_result"
    }
   ],
   "source": [
    "# get each label counts\n",
    "df_label_counts = df[\"category\"].value_counts()\n",
    "df_label_counts"
   ]
  },
  {
   "cell_type": "code",
   "execution_count": 4,
   "metadata": {
    "pycharm": {
     "is_executing": false
    }
   },
   "outputs": [
    {
     "data": {
      "image/png": "[encoded data removed]",
      "text/plain": [
       "<Figure size 1728x1152 with 1 Axes>"
      ]
     },
     "metadata": {},
     "output_type": "display_data"
    }
   ],
   "source": [
    "# visualize the sample counts of each label\n",
    "labels = list(df_label_counts.to_frame().index)\n",
    "counts = df_label_counts.values\n",
    "plot_bar_chart(labels, counts, \"Category - all\").show()"
   ]
  },
  {
   "cell_type": "code",
   "execution_count": 5,
   "metadata": {
    "pycharm": {
     "is_executing": false,
     "name": "#%%\n"
    },
    "scrolled": true
   },
   "outputs": [
    {
     "name": "stdout",
     "output_type": "stream",
     "text": [
      "#################################################\n",
      "\n",
      "#############DATA QUALITY RESULT#################\n",
      "\n",
      "#################################################\n",
      "\n",
      "#################################################\n",
      "############ DATA QUALITY RESULT ################\n",
      "#################################################\n",
      "Number of sample in data set:204135.\n",
      "Number of classes in data set: 11 and they are: ['Longform' 'Reports' 'Exclusive' 'Book Reviews' 'newspaper' 'general'\n",
      "'broadcast' 'business' None 'radio' 'wire'].\n",
      "Columns in data set:['id', 'title', 'author', 'date', 'content', 'year', 'month', 'publication', 'category', 'digital', 'section', 'url'].\n",
      "\n",
      "\n",
      "############## NULL PERCENTAGES #################\n",
      "\n",
      "Column: id  percent of null values:  %0.0.\n",
      "Column: title  percent of null values:  %0.0.\n",
      "Column: author  percent of null values:  %15.742033458250667.\n",
      "Column: date  percent of null values:  %6.173855536777133.\n",
      "Column: content  percent of null values:  %6.345800573150121.\n",
      "Column: year  percent of null values:  %6.173855536777133.\n",
      "Column: month  percent of null values:  %6.173855536777133.\n",
      "Column: publication  percent of null values:  %3.7793616969162565.\n",
      "Column: category  percent of null values:  %17.352242388615377.\n",
      "Column: digital  percent of null values:  %5.39838832145394.\n",
      "Column: section  percent of null values:  %63.46927278516668.\n",
      "Column: url  percent of null values:  %51.60261591593798.\n"
     ]
    }
   ],
   "source": [
    "## Data Information\n",
    "missing_value_df = create_data_quality_report(df, \"category\")"
   ]
  },
  {
   "cell_type": "code",
   "execution_count": 6,
   "metadata": {
    "pycharm": {
     "is_executing": false
    }
   },
   "outputs": [
    {
     "data": {
      "text/html": [
       "<div>\n",
       "<style scoped>\n",
       "    .dataframe tbody tr th:only-of-type {\n",
       "        vertical-align: middle;\n",
       "    }\n",
       "\n",
       "    .dataframe tbody tr th {\n",
       "        vertical-align: top;\n",
       "    }\n",
       "\n",
       "    .dataframe thead th {\n",
       "        text-align: right;\n",
       "    }\n",
       "</style>\n",
       "<table border=\"1\" class=\"dataframe\">\n",
       "  <thead>\n",
       "    <tr style=\"text-align: right;\">\n",
       "      <th></th>\n",
       "      <th>column_name</th>\n",
       "      <th>percent_missing</th>\n",
       "    </tr>\n",
       "  </thead>\n",
       "  <tbody>\n",
       "    <tr>\n",
       "      <th>id</th>\n",
       "      <td>id</td>\n",
       "      <td>0.000000</td>\n",
       "    </tr>\n",
       "    <tr>\n",
       "      <th>title</th>\n",
       "      <td>title</td>\n",
       "      <td>0.000000</td>\n",
       "    </tr>\n",
       "    <tr>\n",
       "      <th>author</th>\n",
       "      <td>author</td>\n",
       "      <td>15.742033</td>\n",
       "    </tr>\n",
       "    <tr>\n",
       "      <th>date</th>\n",
       "      <td>date</td>\n",
       "      <td>6.173856</td>\n",
       "    </tr>\n",
       "    <tr>\n",
       "      <th>content</th>\n",
       "      <td>content</td>\n",
       "      <td>6.345801</td>\n",
       "    </tr>\n",
       "    <tr>\n",
       "      <th>year</th>\n",
       "      <td>year</td>\n",
       "      <td>6.173856</td>\n",
       "    </tr>\n",
       "    <tr>\n",
       "      <th>month</th>\n",
       "      <td>month</td>\n",
       "      <td>6.173856</td>\n",
       "    </tr>\n",
       "    <tr>\n",
       "      <th>publication</th>\n",
       "      <td>publication</td>\n",
       "      <td>3.779362</td>\n",
       "    </tr>\n",
       "    <tr>\n",
       "      <th>category</th>\n",
       "      <td>category</td>\n",
       "      <td>17.352242</td>\n",
       "    </tr>\n",
       "    <tr>\n",
       "      <th>digital</th>\n",
       "      <td>digital</td>\n",
       "      <td>5.398388</td>\n",
       "    </tr>\n",
       "    <tr>\n",
       "      <th>section</th>\n",
       "      <td>section</td>\n",
       "      <td>63.469273</td>\n",
       "    </tr>\n",
       "    <tr>\n",
       "      <th>url</th>\n",
       "      <td>url</td>\n",
       "      <td>51.602616</td>\n",
       "    </tr>\n",
       "  </tbody>\n",
       "</table>\n",
       "</div>"
      ],
      "text/plain": [
       "             column_name  percent_missing\n",
       "id                    id         0.000000\n",
       "title              title         0.000000\n",
       "author            author        15.742033\n",
       "date                date         6.173856\n",
       "content          content         6.345801\n",
       "year                year         6.173856\n",
       "month              month         6.173856\n",
       "publication  publication         3.779362\n",
       "category        category        17.352242\n",
       "digital          digital         5.398388\n",
       "section          section        63.469273\n",
       "url                  url        51.602616"
      ]
     },
     "execution_count": 6,
     "metadata": {},
     "output_type": "execute_result"
    }
   ],
   "source": [
    "missing_value_df"
   ]
  },
  {
   "cell_type": "code",
   "execution_count": 7,
   "metadata": {
    "pycharm": {
     "is_executing": false,
     "name": "#%%\n"
    }
   },
   "outputs": [
    {
     "name": "stdout",
     "output_type": "stream",
     "text": [
      "<class 'pandas.core.frame.DataFrame'>\n",
      "RangeIndex: 204135 entries, 0 to 204134\n",
      "Data columns (total 2 columns):\n",
      " #   Column    Non-Null Count   Dtype \n",
      "---  ------    --------------   ----- \n",
      " 0   content   191181 non-null  object\n",
      " 1   category  168713 non-null  object\n",
      "dtypes: object(2)\n",
      "memory usage: 3.1+ MB\n"
     ]
    }
   ],
   "source": [
    "# select columns for operations\n",
    "df_selected = df[[\"content\", \"category\"]]\n",
    "df_selected.info()\n"
   ]
  },
  {
   "cell_type": "code",
   "execution_count": 8,
   "metadata": {},
   "outputs": [
    {
     "data": {
      "text/html": [
       "<div>\n",
       "<style scoped>\n",
       "    .dataframe tbody tr th:only-of-type {\n",
       "        vertical-align: middle;\n",
       "    }\n",
       "\n",
       "    .dataframe tbody tr th {\n",
       "        vertical-align: top;\n",
       "    }\n",
       "\n",
       "    .dataframe thead th {\n",
       "        text-align: right;\n",
       "    }\n",
       "</style>\n",
       "<table border=\"1\" class=\"dataframe\">\n",
       "  <thead>\n",
       "    <tr style=\"text-align: right;\">\n",
       "      <th></th>\n",
       "      <th>content</th>\n",
       "      <th>category</th>\n",
       "    </tr>\n",
       "  </thead>\n",
       "  <tbody>\n",
       "    <tr>\n",
       "      <th>0</th>\n",
       "      <td>And never more so than in Showtime’s new...</td>\n",
       "      <td>Longform</td>\n",
       "    </tr>\n",
       "    <tr>\n",
       "      <th>1</th>\n",
       "      <td>AlphaGo’s victory isn’t a defeat for hum...</td>\n",
       "      <td>Longform</td>\n",
       "    </tr>\n",
       "    <tr>\n",
       "      <th>2</th>\n",
       "      <td>Super Deluxe built a weird internet empi...</td>\n",
       "      <td>Longform</td>\n",
       "    </tr>\n",
       "    <tr>\n",
       "      <th>3</th>\n",
       "      <td>Steven Yang quit his job at Google in th...</td>\n",
       "      <td>Longform</td>\n",
       "    </tr>\n",
       "    <tr>\n",
       "      <th>4</th>\n",
       "      <td>Ahead of Black Panther’s 2018 theatrical...</td>\n",
       "      <td>Longform</td>\n",
       "    </tr>\n",
       "    <tr>\n",
       "      <th>...</th>\n",
       "      <td>...</td>\n",
       "      <td>...</td>\n",
       "    </tr>\n",
       "    <tr>\n",
       "      <th>204130</th>\n",
       "      <td>None</td>\n",
       "      <td>None</td>\n",
       "    </tr>\n",
       "    <tr>\n",
       "      <th>204131</th>\n",
       "      <td>Sammy Stewart, who set a record when he struck...</td>\n",
       "      <td>newspaper</td>\n",
       "    </tr>\n",
       "    <tr>\n",
       "      <th>204132</th>\n",
       "      <td>Good morning. (Want to get California Today by...</td>\n",
       "      <td>newspaper</td>\n",
       "    </tr>\n",
       "    <tr>\n",
       "      <th>204133</th>\n",
       "      <td>None</td>\n",
       "      <td>None</td>\n",
       "    </tr>\n",
       "    <tr>\n",
       "      <th>204134</th>\n",
       "      <td></td>\n",
       "      <td>None</td>\n",
       "    </tr>\n",
       "  </tbody>\n",
       "</table>\n",
       "<p>204135 rows × 2 columns</p>\n",
       "</div>"
      ],
      "text/plain": [
       "                                                  content   category\n",
       "0             And never more so than in Showtime’s new...   Longform\n",
       "1             AlphaGo’s victory isn’t a defeat for hum...   Longform\n",
       "2             Super Deluxe built a weird internet empi...   Longform\n",
       "3             Steven Yang quit his job at Google in th...   Longform\n",
       "4             Ahead of Black Panther’s 2018 theatrical...   Longform\n",
       "...                                                   ...        ...\n",
       "204130                                               None       None\n",
       "204131  Sammy Stewart, who set a record when he struck...  newspaper\n",
       "204132  Good morning. (Want to get California Today by...  newspaper\n",
       "204133                                               None       None\n",
       "204134                                                          None\n",
       "\n",
       "[204135 rows x 2 columns]"
      ]
     },
     "execution_count": 8,
     "metadata": {},
     "output_type": "execute_result"
    }
   ],
   "source": [
    "df_selected"
   ]
  },
  {
   "cell_type": "code",
   "execution_count": 9,
   "metadata": {},
   "outputs": [
    {
     "name": "stdout",
     "output_type": "stream",
     "text": [
      "<class 'pandas.core.frame.DataFrame'>\n",
      "Int64Index: 151530 entries, 0 to 204132\n",
      "Data columns (total 2 columns):\n",
      " #   Column    Non-Null Count   Dtype \n",
      "---  ------    --------------   ----- \n",
      " 0   content   151530 non-null  object\n",
      " 1   category  151530 non-null  object\n",
      "dtypes: object(2)\n",
      "memory usage: 3.5+ MB\n"
     ]
    }
   ],
   "source": [
    "# drop null values and duplicate values\n",
    "df_selected['content'].replace('', np.nan, inplace=True)\n",
    "df_selected = df_selected.dropna()\n",
    "df_selected = df_selected.drop_duplicates()\n",
    "df_selected.info()"
   ]
  },
  {
   "cell_type": "code",
   "execution_count": 10,
   "metadata": {},
   "outputs": [
    {
     "data": {
      "text/html": [
       "<div>\n",
       "<style scoped>\n",
       "    .dataframe tbody tr th:only-of-type {\n",
       "        vertical-align: middle;\n",
       "    }\n",
       "\n",
       "    .dataframe tbody tr th {\n",
       "        vertical-align: top;\n",
       "    }\n",
       "\n",
       "    .dataframe thead th {\n",
       "        text-align: right;\n",
       "    }\n",
       "</style>\n",
       "<table border=\"1\" class=\"dataframe\">\n",
       "  <thead>\n",
       "    <tr style=\"text-align: right;\">\n",
       "      <th></th>\n",
       "      <th>content</th>\n",
       "      <th>category</th>\n",
       "    </tr>\n",
       "  </thead>\n",
       "  <tbody>\n",
       "    <tr>\n",
       "      <th>0</th>\n",
       "      <td>And never more so than in Showtime’s new...</td>\n",
       "      <td>Longform</td>\n",
       "    </tr>\n",
       "    <tr>\n",
       "      <th>1</th>\n",
       "      <td>AlphaGo’s victory isn’t a defeat for hum...</td>\n",
       "      <td>Longform</td>\n",
       "    </tr>\n",
       "    <tr>\n",
       "      <th>2</th>\n",
       "      <td>Super Deluxe built a weird internet empi...</td>\n",
       "      <td>Longform</td>\n",
       "    </tr>\n",
       "    <tr>\n",
       "      <th>3</th>\n",
       "      <td>Steven Yang quit his job at Google in th...</td>\n",
       "      <td>Longform</td>\n",
       "    </tr>\n",
       "    <tr>\n",
       "      <th>4</th>\n",
       "      <td>Ahead of Black Panther’s 2018 theatrical...</td>\n",
       "      <td>Longform</td>\n",
       "    </tr>\n",
       "    <tr>\n",
       "      <th>...</th>\n",
       "      <td>...</td>\n",
       "      <td>...</td>\n",
       "    </tr>\n",
       "    <tr>\n",
       "      <th>204126</th>\n",
       "      <td>SAN FRANCISCO — Airbnb agreed on Monday to set...</td>\n",
       "      <td>newspaper</td>\n",
       "    </tr>\n",
       "    <tr>\n",
       "      <th>204127</th>\n",
       "      <td>In the Band’s popular song “The Night They Dro...</td>\n",
       "      <td>newspaper</td>\n",
       "    </tr>\n",
       "    <tr>\n",
       "      <th>204129</th>\n",
       "      <td>The Rev. Billy Graham admitted in his later ye...</td>\n",
       "      <td>newspaper</td>\n",
       "    </tr>\n",
       "    <tr>\n",
       "      <th>204131</th>\n",
       "      <td>Sammy Stewart, who set a record when he struck...</td>\n",
       "      <td>newspaper</td>\n",
       "    </tr>\n",
       "    <tr>\n",
       "      <th>204132</th>\n",
       "      <td>Good morning. (Want to get California Today by...</td>\n",
       "      <td>newspaper</td>\n",
       "    </tr>\n",
       "  </tbody>\n",
       "</table>\n",
       "<p>151530 rows × 2 columns</p>\n",
       "</div>"
      ],
      "text/plain": [
       "                                                  content   category\n",
       "0             And never more so than in Showtime’s new...   Longform\n",
       "1             AlphaGo’s victory isn’t a defeat for hum...   Longform\n",
       "2             Super Deluxe built a weird internet empi...   Longform\n",
       "3             Steven Yang quit his job at Google in th...   Longform\n",
       "4             Ahead of Black Panther’s 2018 theatrical...   Longform\n",
       "...                                                   ...        ...\n",
       "204126  SAN FRANCISCO — Airbnb agreed on Monday to set...  newspaper\n",
       "204127  In the Band’s popular song “The Night They Dro...  newspaper\n",
       "204129  The Rev. Billy Graham admitted in his later ye...  newspaper\n",
       "204131  Sammy Stewart, who set a record when he struck...  newspaper\n",
       "204132  Good morning. (Want to get California Today by...  newspaper\n",
       "\n",
       "[151530 rows x 2 columns]"
      ]
     },
     "execution_count": 10,
     "metadata": {},
     "output_type": "execute_result"
    }
   ],
   "source": [
    "df_selected"
   ]
  },
  {
   "cell_type": "code",
   "execution_count": 11,
   "metadata": {},
   "outputs": [
    {
     "data": {
      "text/plain": [
       "array(['broadcast', 'business', 'radio', 'wire'], dtype=object)"
      ]
     },
     "execution_count": 11,
     "metadata": {},
     "output_type": "execute_result"
    }
   ],
   "source": [
    "# number of rows is high so that we select just few of the publications contents\n",
    "# broadcast       18672\n",
    "# wire            15055\n",
    "# radio           12001\n",
    "# business         8344\n",
    "options = [\"broadcast\", \"wire\", \"radio\", \"business\"]\n",
    "df_sampled = df_selected.loc[df_selected['category'].isin(options)]\n",
    "df_sampled[\"category\"].unique()"
   ]
  },
  {
   "cell_type": "code",
   "execution_count": 12,
   "metadata": {},
   "outputs": [
    {
     "data": {
      "text/plain": [
       "broadcast    15861\n",
       "radio        11997\n",
       "wire         10714\n",
       "business      6739\n",
       "Name: category, dtype: int64"
      ]
     },
     "execution_count": 12,
     "metadata": {},
     "output_type": "execute_result"
    }
   ],
   "source": [
    "df_sampled_label_counts = df_sampled['category'].value_counts()\n",
    "df_sampled_label_counts"
   ]
  },
  {
   "cell_type": "code",
   "execution_count": 13,
   "metadata": {},
   "outputs": [
    {
     "data": {
      "image/png": "[encoded data removed]",
      "text/plain": [
       "<Figure size 1728x1152 with 1 Axes>"
      ]
     },
     "metadata": {},
     "output_type": "display_data"
    }
   ],
   "source": [
    "# visualize the sample counts of each label\n",
    "labels = list(df_sampled_label_counts.to_frame().index)\n",
    "counts = df_sampled_label_counts.values\n",
    "plot_bar_chart(labels, counts, \"Category - selected\").show()"
   ]
  },
  {
   "cell_type": "code",
   "execution_count": 14,
   "metadata": {},
   "outputs": [
    {
     "data": {
      "text/html": [
       "<div>\n",
       "<style scoped>\n",
       "    .dataframe tbody tr th:only-of-type {\n",
       "        vertical-align: middle;\n",
       "    }\n",
       "\n",
       "    .dataframe tbody tr th {\n",
       "        vertical-align: top;\n",
       "    }\n",
       "\n",
       "    .dataframe thead th {\n",
       "        text-align: right;\n",
       "    }\n",
       "</style>\n",
       "<table border=\"1\" class=\"dataframe\">\n",
       "  <thead>\n",
       "    <tr style=\"text-align: right;\">\n",
       "      <th></th>\n",
       "      <th>content</th>\n",
       "      <th>category</th>\n",
       "    </tr>\n",
       "  </thead>\n",
       "  <tbody>\n",
       "    <tr>\n",
       "      <th>41840</th>\n",
       "      <td>[Istanbul (CNN)At least 39 people were killed ...</td>\n",
       "      <td>broadcast</td>\n",
       "    </tr>\n",
       "    <tr>\n",
       "      <th>41841</th>\n",
       "      <td>[Atlanta (CNN)This season's College Football P...</td>\n",
       "      <td>broadcast</td>\n",
       "    </tr>\n",
       "    <tr>\n",
       "      <th>41842</th>\n",
       "      <td>[ (CNN)Revelers on the United States' west coa...</td>\n",
       "      <td>broadcast</td>\n",
       "    </tr>\n",
       "    <tr>\n",
       "      <th>41843</th>\n",
       "      <td>[West Palm Beach, Florida (CNN)President-elect...</td>\n",
       "      <td>broadcast</td>\n",
       "    </tr>\n",
       "    <tr>\n",
       "      <th>41844</th>\n",
       "      <td>[ (CNN)Two small planes collided in Texas on S...</td>\n",
       "      <td>broadcast</td>\n",
       "    </tr>\n",
       "    <tr>\n",
       "      <th>...</th>\n",
       "      <td>...</td>\n",
       "      <td>...</td>\n",
       "    </tr>\n",
       "    <tr>\n",
       "      <th>153636</th>\n",
       "      <td>Net long bets on the dollar fell last week for...</td>\n",
       "      <td>wire</td>\n",
       "    </tr>\n",
       "    <tr>\n",
       "      <th>153637</th>\n",
       "      <td>Wall Street's rally could be derailed by rene...</td>\n",
       "      <td>wire</td>\n",
       "    </tr>\n",
       "    <tr>\n",
       "      <th>153638</th>\n",
       "      <td>(Reuters Breakingviews) - Walt Disney may be ...</td>\n",
       "      <td>wire</td>\n",
       "    </tr>\n",
       "    <tr>\n",
       "      <th>153639</th>\n",
       "      <td>(Story refiled to correct date in paragraph 1...</td>\n",
       "      <td>wire</td>\n",
       "    </tr>\n",
       "    <tr>\n",
       "      <th>153640</th>\n",
       "      <td>European capitals tightened security on Frida...</td>\n",
       "      <td>wire</td>\n",
       "    </tr>\n",
       "  </tbody>\n",
       "</table>\n",
       "<p>45311 rows × 2 columns</p>\n",
       "</div>"
      ],
      "text/plain": [
       "                                                  content   category\n",
       "41840   [Istanbul (CNN)At least 39 people were killed ...  broadcast\n",
       "41841   [Atlanta (CNN)This season's College Football P...  broadcast\n",
       "41842   [ (CNN)Revelers on the United States' west coa...  broadcast\n",
       "41843   [West Palm Beach, Florida (CNN)President-elect...  broadcast\n",
       "41844   [ (CNN)Two small planes collided in Texas on S...  broadcast\n",
       "...                                                   ...        ...\n",
       "153636  Net long bets on the dollar fell last week for...       wire\n",
       "153637   Wall Street's rally could be derailed by rene...       wire\n",
       "153638   (Reuters Breakingviews) - Walt Disney may be ...       wire\n",
       "153639   (Story refiled to correct date in paragraph 1...       wire\n",
       "153640   European capitals tightened security on Frida...       wire\n",
       "\n",
       "[45311 rows x 2 columns]"
      ]
     },
     "execution_count": 14,
     "metadata": {},
     "output_type": "execute_result"
    }
   ],
   "source": [
    "df_sampled"
   ]
  },
  {
   "cell_type": "code",
   "execution_count": 15,
   "metadata": {},
   "outputs": [],
   "source": [
    "# apply preprocess operations\n",
    "preprocess_operations = [to_lower, remove_hyperlink, remove_number, remove_punctuation, remove_whitespace,\n",
    "                         replace_special_chars, remove_stopwords, apply_stemmer, remove_less_than_two]"
   ]
  },
  {
   "cell_type": "code",
   "execution_count": 16,
   "metadata": {},
   "outputs": [
    {
     "data": {
      "text/plain": [
       "'[ (CNN)Chelsea registered a record-equaling 13th successive victory Saturday, as Liverpool fought to a 1-0 win over rivals Manchester City to stay in touch with the English Premier League leaders., It\\'s Antonio Conte\\'s Chelsea that heads into the New Year top of the table after a hard-earned 4-2 victory over a spirited Stoke City., Later in the day, Liverpool got the better of City thanks to Georginio Wijnaldum\\'s eighth-minute goal., READ: Football team equals record winning run, All of which mean Chelsea leads second-placed Liverpool by six points as it bids to win its fifth English championship, with City four points behind Jurgen Klopp\\'s side., Having twice taken the lead only to be pegged back by Stoke, Chelsea\\'s superiority eventually shone through as it powered to three points thanks in part to a brace from Willian and a late goal from striker Diego Costa., But Klopp\\'s Liverpool responded with a crucial victory of its own., Dutch midfielder Wijnaldum\\'s powerful early header from Adam Lallana\\'s cross was enough to leave Pep Guardiola\\'s City 10 points adrift of Chelsea., \"We were not cool enough in possession,\" Klopp told BT Sport, \"but they (City) couldn\\'t create real chances because we defended so well. , \"It\\'s not about having a philosophy, but adapting to the opponent. We don\\'t want to show how good we are, we want the three points.\", Meanwhile Conte congratulated his players after their latest win. \"To win 13 games in a row in this league is very difficult,\" Chelsea\\'s manager told BBC Sport., \"Now, it\\'s important to celebrate the arrival of the new year, then to think of the next game against Tottenham,\" added Conte referring to Chelsea\\'s next game on Wednesday when his team will seek a 14th consecutive Premier League win., Arsenal had set the record for 13 Premier League wins in a row during the 2001/02 season. Arsene Wenger\\'s team won 14 consecutive league matches between February and August 2002., \"Numbers are not important if you do not win the title,\" said Conte. \"Now, they are fantastic and we are proud, but we must concentrate on the second part of the season.\", Manchester United\\'s slim title hopes were maintained thanks to a 2-1 defeat of Middlesbrough at Old Trafford, though Jose Mourinho\\'s side are 13 points behind Chelsea., After falling behind to Grant Leadbitter\\'s second-half goal, Mourinho\\'s team recovered thanks to late goals from Anthony Martial and Paul Pogba., United\\'s Portuguese manager credited his team\\'s recovery to the fans, who he claimed played a crucial role in a comeback win that leaves United sixth.,  \"In the last 20 minutes, the fans were on the pitch -- they were not in the stands,\" Mourinho told reporters., \"And this is a credit to the players who showed amazing character to go and go and go and go.\"]'"
      ]
     },
     "execution_count": 16,
     "metadata": {},
     "output_type": "execute_result"
    }
   ],
   "source": [
    "# example result\n",
    "df_sampled[\"content\"].values[12]"
   ]
  },
  {
   "cell_type": "code",
   "execution_count": 17,
   "metadata": {},
   "outputs": [
    {
     "data": {
      "text/plain": [
       "['cnnchelsea regist recordequ success victori saturday liverpool fought win rival manchest citi stay touch english premier leagu leader antonio cont chelsea head new year tabl hardearn victori spirit stoke citi later day liverpool got better citi thank georginio wijnaldum eighthminut goal read footbal team equal record win run mean chelsea lead secondplac liverpool point bid win fifth english championship citi point jurgen klopp have twice taken lead peg stoke chelsea superior eventu shone power point thank brace willian late goal striker diego costa klopp liverpool respond crucial victori dutch midfield wijnaldum power earli header adam lallana cross leav pep guardiola citi point adrift chelsea cool possess klopp told sport citi creat real chanc defend have philosophi adapt oppon dont want good want point cont congratul player latest win win game row leagu difficult chelsea manag told bbc sport import celebr arriv new year think game tottenham cont refer chelsea game wednesday team seek consecut premier leagu win arsen set record premier leagu win row season arsen wenger team won consecut leagu match februari august number import win titl said cont fantast proud concentr second season manchest unit slim titl hope maintain thank defeat middlesbrough old trafford jose mourinho point chelsea fall grant leadbitt secondhalf goal mourinho team recov thank late goal anthoni martial paul pogba unit portugues manag credit team recoveri fan claim play crucial role comeback win leav unit sixth minut fan pitch stand mourinho told report credit player show amaz charact']"
      ]
     },
     "execution_count": 17,
     "metadata": {},
     "output_type": "execute_result"
    }
   ],
   "source": [
    "apply_preprocess_operations_to_corpus([df_sampled[\"content\"].values[12]], preprocess_operations)"
   ]
  },
  {
   "cell_type": "code",
   "execution_count": 18,
   "metadata": {},
   "outputs": [
    {
     "name": "stdout",
     "output_type": "stream",
     "text": [
      "Processed 45311 samples.\n",
      "\n",
      "It's took 20.95461086034775 minutes.\n"
     ]
    }
   ],
   "source": [
    "# apply preprocess operation all the data\n",
    "start = time.time()\n",
    "for operation in preprocess_operations:\n",
    "    df_sampled[\"content\"] = df_sampled[\"content\"].apply(operation)\n",
    "print(f\"Processed {len(df_sampled)} samples.\\n\")\n",
    "print(f\"It's took {(time.time()-start) / 60} minutes.\")"
   ]
  },
  {
   "cell_type": "code",
   "execution_count": 20,
   "metadata": {},
   "outputs": [
    {
     "name": "stdout",
     "output_type": "stream",
     "text": [
      "Data is wrote to path C:\\Users\\user\\Desktop\\nlp_project/data/, with name preprocessed\n"
     ]
    }
   ],
   "source": [
    "write_to_db(\"preprocessed\", df_sampled, \"preprocess.db\")"
   ]
  },
  {
   "cell_type": "code",
   "execution_count": null,
   "metadata": {},
   "outputs": [],
   "source": []
  }
 ],
 "metadata": {
  "kernelspec": {
   "display_name": "Python 3",
   "language": "python",
   "name": "python3"
  },
  "language_info": {
   "codemirror_mode": {
    "name": "ipython",
    "version": 3
   },
   "file_extension": ".py",
   "mimetype": "text/x-python",
   "name": "python",
   "nbconvert_exporter": "python",
   "pygments_lexer": "ipython3",
   "version": "3.7.7"
  },
  "pycharm": {
   "stem_cell": {
    "cell_type": "raw",
    "metadata": {
     "collapsed": false
    },
    "source": []
   }
  }
 },
 "nbformat": 4,
 "nbformat_minor": 1
}
